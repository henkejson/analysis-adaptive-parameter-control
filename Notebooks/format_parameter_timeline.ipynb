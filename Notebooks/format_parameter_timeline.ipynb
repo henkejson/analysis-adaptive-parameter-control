{
 "cells": [
  {
   "cell_type": "markdown",
   "metadata": {},
   "source": [
    "### Load parameters_timeline.json"
   ]
  },
  {
   "cell_type": "code",
   "execution_count": 1,
   "metadata": {},
   "outputs": [],
   "source": [
    "import os\n",
    "import json\n",
    "working_directory = os.getcwd()\n",
    "parent_directory = os.path.dirname(working_directory)\n",
    "single_parameter_directory = os.path.join(parent_directory, \"single_parameter\")\n",
    "\n",
    "# Change to correct data folder\n",
    "root_directory = os.path.join(single_parameter_directory, \"data1\")\n",
    "parameter_file = \"parameters_timeline.json\"\n",
    "\n",
    "with open(os.path.join(root_directory, parameter_file), 'r') as json_file:\n",
    "    parameters_timeline = json.load(json_file)\n"
   ]
  },
  {
   "cell_type": "markdown",
   "metadata": {},
   "source": [
    "### Extract parameter timeline for each run_id, sort keys, and save in the correct configuration folder"
   ]
  },
  {
   "cell_type": "code",
   "execution_count": 4,
   "metadata": {},
   "outputs": [],
   "source": [
    "for module in parameters_timeline:\n",
    "    for run_id in parameters_timeline[module]:\n",
    "        output_file = os.path.join(root_directory, f\"{module}/{run_id}/{parameter_file}\")\n",
    "\n",
    "        data = parameters_timeline[module][run_id]\n",
    "        sorted_data = {k: data[k] for k in sorted(data, key=int)}\n",
    "        \n",
    "        with open(output_file, 'w') as json_file:\n",
    "            json.dump(sorted_data, json_file, indent=4)\n"
   ]
  },
  {
   "cell_type": "code",
   "execution_count": null,
   "metadata": {},
   "outputs": [],
   "source": []
  }
 ],
 "metadata": {
  "kernelspec": {
   "display_name": "jupyter_env",
   "language": "python",
   "name": "python3"
  },
  "language_info": {
   "codemirror_mode": {
    "name": "ipython",
    "version": 3
   },
   "file_extension": ".py",
   "mimetype": "text/x-python",
   "name": "python",
   "nbconvert_exporter": "python",
   "pygments_lexer": "ipython3",
   "version": "3.10.12"
  }
 },
 "nbformat": 4,
 "nbformat_minor": 2
}
