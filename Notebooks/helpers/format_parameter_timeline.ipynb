{
 "cells": [
  {
   "cell_type": "markdown",
   "metadata": {},
   "source": [
    "This file converts the large `parameters_timeline.json` file into smaller more manageable files.\n",
    "\n",
    "It will take each parameter timeline and place it in the corresponding runID folder. "
   ]
  },
  {
   "cell_type": "markdown",
   "metadata": {},
   "source": [
    "### Load parameters_timeline.json"
   ]
  },
  {
   "cell_type": "code",
   "execution_count": null,
   "metadata": {},
   "outputs": [],
   "source": [
    "import os\n",
    "import json\n",
    "\n",
    "# Set the correct working directory\n",
    "working_directory = os.getcwd()\n",
    "parent_directory = os.path.dirname(working_directory)\n",
    "\n",
    "\n",
    "# Set the correct data folder for parameters_timeline.json\n",
    "root_directory = os.path.join(parent_directory, \"single_parameter\", \"data1\")\n",
    "file_name = \"parameters_timeline.json\"\n",
    "\n",
    "# Load parameters_timeline.json\n",
    "with open(os.path.join(root_directory, file_name), 'r') as json_file:\n",
    "    parameters_timeline = json.load(json_file)\n"
   ]
  },
  {
   "cell_type": "markdown",
   "metadata": {},
   "source": [
    "### Extract timelines, sort keys, and save in the correct configuration folder\n"
   ]
  },
  {
   "cell_type": "code",
   "execution_count": 4,
   "metadata": {},
   "outputs": [],
   "source": [
    "for module in parameters_timeline:\n",
    "    for run_id in parameters_timeline[module]:\n",
    "        output_file = os.path.join(root_directory, f\"{module}/{run_id}/{file_name}\")\n",
    "\n",
    "        data = parameters_timeline[module][run_id]\n",
    "        sorted_data = {k: data[k] for k in sorted(data, key=int)}\n",
    "        \n",
    "        with open(output_file, 'w') as json_file:\n",
    "            json.dump(sorted_data, json_file, indent=4)\n"
   ]
  }
 ],
 "metadata": {
  "kernelspec": {
   "display_name": "jupyter_env",
   "language": "python",
   "name": "python3"
  },
  "language_info": {
   "codemirror_mode": {
    "name": "ipython",
    "version": 3
   },
   "file_extension": ".py",
   "mimetype": "text/x-python",
   "name": "python",
   "nbconvert_exporter": "python",
   "pygments_lexer": "ipython3",
   "version": "3.10.12"
  }
 },
 "nbformat": 4,
 "nbformat_minor": 2
}
