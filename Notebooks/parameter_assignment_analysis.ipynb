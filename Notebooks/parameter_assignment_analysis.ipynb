{
 "cells": [
  {
   "cell_type": "code",
   "execution_count": 8,
   "metadata": {},
   "outputs": [],
   "source": [
    "import json\n",
    "from collections import OrderedDict\n",
    "\n",
    "# Load the JSON file\n",
    "def extract_parameters_timeline(file_path, parameter):\n",
    "    with open(file_path, 'r') as file:\n",
    "        data = json.load(file, object_pairs_hook=OrderedDict)\n",
    "\n",
    "    parameter_list = []\n",
    "    for _, value in data.items():\n",
    "        parameter_list.append(value[parameter]['observation'])\n",
    "\n",
    "    return parameter_list\n",
    "    "
   ]
  },
  {
   "cell_type": "code",
   "execution_count": 9,
   "metadata": {},
   "outputs": [
    {
     "name": "stdout",
     "output_type": "stream",
     "text": [
      "Value: 0.1\n",
      "Value: 0.0227349042892456\n",
      "Value: 0.0\n",
      "Value: 0.02679480314254762\n",
      "Value: 0.08875166177749635\n",
      "Value: 0.10521525144577028\n",
      "Value: 0.1192294239997864\n"
     ]
    }
   ],
   "source": [
    "extract_parameters_timeline('../../single_parameter/combined_data/parameters_timeline.json', 'ChangeParameterProbability')\n",
    "\n"
   ]
  }
 ],
 "metadata": {
  "kernelspec": {
   "display_name": "analysis_env",
   "language": "python",
   "name": "python3"
  },
  "language_info": {
   "codemirror_mode": {
    "name": "ipython",
    "version": 3
   },
   "file_extension": ".py",
   "mimetype": "text/x-python",
   "name": "python",
   "nbconvert_exporter": "python",
   "pygments_lexer": "ipython3",
   "version": "3.12.3"
  }
 },
 "nbformat": 4,
 "nbformat_minor": 2
}
