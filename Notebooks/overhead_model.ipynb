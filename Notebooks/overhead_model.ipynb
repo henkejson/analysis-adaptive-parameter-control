{
 "cells": [
  {
   "cell_type": "code",
   "execution_count": 6,
   "metadata": {},
   "outputs": [
    {
     "data": {
      "application/vnd.jupyter.widget-view+json": {
       "model_id": "fcde9f165f6c49f9b839ca7dd5349701",
       "version_major": 2,
       "version_minor": 0
      },
      "text/plain": [
       "interactive(children=(FloatSlider(value=4.0, description='Sigma_alpha (sigma_a):', max=6.0, min=0.5), FloatSli…"
      ]
     },
     "metadata": {},
     "output_type": "display_data"
    },
    {
     "data": {
      "text/plain": [
       "<function __main__.calc_prior_dist(s_a, s_b, s_g, a_bar_mu, a_bar_sigma)>"
      ]
     },
     "execution_count": 6,
     "metadata": {},
     "output_type": "execute_result"
    }
   ],
   "source": [
    "import pymc as pm\n",
    "import matplotlib.pyplot as plt\n",
    "import seaborn as sns\n",
    "import numpy as np\n",
    "from ipywidgets import interact, FloatSlider\n",
    "\n",
    "def calc_prior_dist(s_a, s_b, s_g, a_bar_mu, a_bar_sigma):\n",
    "    with pm.Model() as model:\n",
    "        # Global Intercept and standard deviation for Modules\n",
    "        a_bar = pm.Normal('a_bar', mu=a_bar_mu, sigma=a_bar_sigma)\n",
    "        \n",
    "        # Standard Deviations for Modules, Parameters and Interactions\n",
    "        sigma_a = pm.Exponential('sigma_a', s_a)\n",
    "        sigma_b = pm.Exponential('sigma_b', s_b)\n",
    "        sigma_g = pm.Exponential('sigma_g', s_g)\n",
    "        \n",
    "        # Non-centered parameterizations\n",
    "        a_offset = pm.Normal('a_offset', mu=0, sigma=1)\n",
    "        a_m = pm.Deterministic('a_m', a_bar + sigma_a * a_offset)\n",
    "\n",
    "        b_offset = pm.Normal('b_offset', mu=0, sigma=1)\n",
    "        b_p = pm.Deterministic('b_p', sigma_b * b_offset)\n",
    "\n",
    "        g_offset = pm.Normal('g_offset', mu=0, sigma=1)\n",
    "        g_mp = pm.Deterministic('g_mp', sigma_g * g_offset)\n",
    "\n",
    "\n",
    "        # Link function (logit), unbounded to (0,1) probability\n",
    "        mu_before = pm.Deterministic('mu_before', a_m + b_p + g_mp)\n",
    "        mu = pm.Deterministic('mu', pm.math.exp(a_m + b_p + g_mp))\n",
    "        \n",
    "        # Beta distribution likelihood \n",
    "        theta = pm.Uniform('theta', 0.0, 100)\n",
    "        \n",
    "        # Sample from the model\n",
    "        idata = pm.sample_prior_predictive(samples=3000)\n",
    "\n",
    "\n",
    "\n",
    "    # Fetch and flatten priors\n",
    "    prior_a_bar = idata.prior['a_bar'].values.flatten()\n",
    "    prior_sigma_a = idata.prior['sigma_a'].values.flatten()\n",
    "    prior_a_m = idata.prior['a_m'].values.flatten()\n",
    "    prior_sigma_b = idata.prior['sigma_b'].values.flatten()\n",
    "    prior_b_p = idata.prior['b_p'].values.flatten()\n",
    "    prior_sigma_g = idata.prior['sigma_g'].values.flatten()\n",
    "    prior_g_mp = idata.prior['g_mp'].values.flatten()\n",
    "    prior_mu= idata.prior['mu'].values.flatten()\n",
    "    prior_mu_before= idata.prior['mu_before'].values.flatten()\n",
    "    prior_theta = idata.prior['theta'].values.flatten()\n",
    "\n",
    "    #simulated_observations = np.random.beta(a=prior_p * prior_theta, b=(1 - prior_p) * prior_theta)\n",
    "    print(prior_mu[0:10])\n",
    "    \n",
    "\n",
    "    simulated_observations = np.random.negative_binomial(n=prior_theta, p=(prior_theta)/(prior_mu + prior_theta))\n",
    "    \n",
    "    #Predicated observations\n",
    "    plt.figure(figsize=(4, 3))\n",
    "    sns.histplot(simulated_observations, color='darkcyan', binrange=(0, 7000))\n",
    "    plt.title('Simulated Observations of Coverage using priors ')\n",
    "    plt.xlabel('Values')\n",
    "    plt.ylabel('Density')\n",
    "    plt.show()\n",
    "\n",
    "    plt.figure(figsize=(20, 15))\n",
    "\n",
    "    # p\n",
    "    plt.subplot(5, 2, 1)\n",
    "    sns.histplot(prior_mu_before, color='k', )\n",
    "    plt.title('Prior Distribution of p - Logistic / Inverse Logit')\n",
    "    plt.xlabel('p')\n",
    "    plt.ylabel('Density')\n",
    "\n",
    "    # p\n",
    "    plt.subplot(5, 2, 2)\n",
    "    sns.histplot(prior_mu, color='purple', binrange=(0, 10000))\n",
    "    plt.title('Prior Distribution of p - Logistic / Inverse Logit')\n",
    "    plt.xlabel('p')\n",
    "    plt.ylabel('Density')\n",
    "\n",
    "    # theta\n",
    "    plt.subplot(5, 2, 3)\n",
    "    sns.histplot(prior_theta, color='orange')\n",
    "    plt.title('Prior Distribution of theta - Unifrom(10,200)')\n",
    "    plt.xlabel('p_before')\n",
    "    plt.ylabel('Density')\n",
    "\n",
    "\n",
    "    # a_bar\n",
    "    plt.subplot(5, 2, 4)\n",
    "    sns.histplot(prior_a_bar, color='blue')\n",
    "    plt.title('Prior Distribution of a_bar - Normal(0, 1.5)')\n",
    "    plt.xlabel('a_bar')\n",
    "    plt.ylabel('Density')\n",
    "\n",
    "    # sigma\n",
    "    plt.subplot(5, 2, 5)\n",
    "    sns.histplot(prior_sigma_a, color='red')\n",
    "    plt.title('Prior Distribution of sigma - Exponential(1.5)')\n",
    "    plt.xlabel('sigma')\n",
    "    plt.ylabel('Density')\n",
    "\n",
    "    # a_m\n",
    "    plt.subplot(5, 2, 6)\n",
    "    sns.histplot(prior_a_m, color='green')\n",
    "    plt.title('Prior Distribution of a_m - Normal(a_bar, sigma)')\n",
    "    plt.xlabel('a_m')\n",
    "    plt.ylabel('Density')\n",
    "\n",
    "    # sigma\n",
    "    plt.subplot(5, 2, 7)\n",
    "    sns.histplot(prior_sigma_b, color='salmon')\n",
    "    plt.title('Prior Distribution of sigma - Exponential(1.5)')\n",
    "    plt.xlabel('sigma')\n",
    "    plt.ylabel('Density')\n",
    "\n",
    "    # b_p\n",
    "    plt.subplot(5, 2, 8)\n",
    "    sns.histplot(prior_b_p, color='pink')\n",
    "    plt.title('Prior Distribution of b_p - Normal(a_bar, sigma)')\n",
    "    plt.xlabel('b_p')\n",
    "    plt.ylabel('Density')\n",
    "\n",
    "    # sigma\n",
    "    plt.subplot(5, 2, 9)\n",
    "    sns.histplot(prior_sigma_g, color='brown')\n",
    "    plt.title('Prior Distribution of sigma - Exponential(1.5)')\n",
    "    plt.xlabel('sigma')\n",
    "    plt.ylabel('Density')\n",
    "\n",
    "    # g_mp\n",
    "    plt.subplot(5, 2, 10)\n",
    "    sns.histplot(prior_g_mp, color='yellow')\n",
    "    plt.title('Prior Distribution of b_p - Normal(a_bar, sigma)')\n",
    "    plt.xlabel('g_mp')\n",
    "    plt.ylabel('Density')\n",
    "\n",
    "    \n",
    "\n",
    "    plt.tight_layout()\n",
    "    plt.show()\n",
    "\n",
    "    \n",
    "\n",
    "\n",
    "s_a = FloatSlider(value=4, min=0.5, max=6, step=0.1, description='Sigma_alpha (sigma_a):')\n",
    "s_b = FloatSlider(value=4, min=0.5, max=6, step=0.1, description='Sigma_beta (sigma_b):')\n",
    "s_g = FloatSlider(value=4, min=0.5, max=6, step=0.1, description='Sigma_gamma (sigma_g):')\n",
    "a_bar_mu = FloatSlider(value=7, min=0, max=10, step=0.1, description='alpha bar mu (a_bar_mu):')\n",
    "a_bar_sigma = FloatSlider(value=0.5, min=0, max=3, step=0.1, description='alpha bar sigma (a_bar_sigma):')\n",
    "\n",
    "\n",
    "\n",
    "interact(calc_prior_dist, s_a=s_a, s_b=s_b, s_g=s_g, a_bar_mu=a_bar_mu, a_bar_sigma=a_bar_sigma)"
   ]
  },
  {
   "cell_type": "code",
   "execution_count": 20,
   "metadata": {},
   "outputs": [
    {
     "data": {
      "application/vnd.jupyter.widget-view+json": {
       "model_id": "beb92a573f4c42a6b3caff3af7f1db61",
       "version_major": 2,
       "version_minor": 0
      },
      "text/plain": [
       "interactive(children=(FloatSlider(value=7.313220387090301, description='Log Mean (log_mu):', max=8.51719319141…"
      ]
     },
     "metadata": {},
     "output_type": "display_data"
    },
    {
     "data": {
      "text/plain": [
       "<function __main__.plot_negative_binomial(log_mu, alpha)>"
      ]
     },
     "execution_count": 20,
     "metadata": {},
     "output_type": "execute_result"
    }
   ],
   "source": [
    "import numpy as np\n",
    "import matplotlib.pyplot as plt\n",
    "from ipywidgets import interact, FloatSlider\n",
    "\n",
    "def plot_negative_binomial(log_mu, alpha):\n",
    "    # Calculate mu from the log_mu (linear predictor)\n",
    "    mu = np.exp(log_mu)\n",
    "    \n",
    "    # Convert PyMC-style parameters to NumPy-style parameters\n",
    "    n = alpha\n",
    "    p = alpha / (mu + alpha)\n",
    "    \n",
    "    # Generate samples\n",
    "    samples = np.random.negative_binomial(n, p, size=10000)\n",
    "    \n",
    "    # Plot the histogram of the samples\n",
    "    plt.figure(figsize=(10, 6))\n",
    "    plt.hist(samples, bins=50, alpha=0.75, color='blue', edgecolor='black', density=True)\n",
    "    plt.title(f\"Negative Binomial Distribution\\nLog Mean = {log_mu}, Mean = {round(mu, 2)}, Dispersion = {alpha}\")\n",
    "    plt.xlabel(\"Value\")\n",
    "    plt.ylabel(\"Density\")\n",
    "    plt.grid(True)\n",
    "    plt.show()\n",
    "\n",
    "# Create interactive widgets\n",
    "log_mu_slider = FloatSlider(value=np.log(1500), min=np.log(100), max=np.log(5000), step=0.1, description='Log Mean (log_mu):')\n",
    "alpha_slider = FloatSlider(value=9, min=1, max=30, step=1, description='Dispersion (alpha):')\n",
    "\n",
    "interact(plot_negative_binomial, log_mu=log_mu_slider, alpha=alpha_slider)\n"
   ]
  },
  {
   "cell_type": "code",
   "execution_count": 2,
   "metadata": {},
   "outputs": [
    {
     "data": {
      "text/html": [
       "<div>\n",
       "<style scoped>\n",
       "    .dataframe tbody tr th:only-of-type {\n",
       "        vertical-align: middle;\n",
       "    }\n",
       "\n",
       "    .dataframe tbody tr th {\n",
       "        vertical-align: top;\n",
       "    }\n",
       "\n",
       "    .dataframe thead th {\n",
       "        text-align: right;\n",
       "    }\n",
       "</style>\n",
       "<table border=\"1\" class=\"dataframe\">\n",
       "  <thead>\n",
       "    <tr style=\"text-align: right;\">\n",
       "      <th></th>\n",
       "      <th>AlgorithmIterations</th>\n",
       "    </tr>\n",
       "  </thead>\n",
       "  <tbody>\n",
       "    <tr>\n",
       "      <th>count</th>\n",
       "      <td>9360.000000</td>\n",
       "    </tr>\n",
       "    <tr>\n",
       "      <th>mean</th>\n",
       "      <td>1514.810043</td>\n",
       "    </tr>\n",
       "    <tr>\n",
       "      <th>std</th>\n",
       "      <td>696.050921</td>\n",
       "    </tr>\n",
       "    <tr>\n",
       "      <th>min</th>\n",
       "      <td>289.000000</td>\n",
       "    </tr>\n",
       "    <tr>\n",
       "      <th>25%</th>\n",
       "      <td>1014.750000</td>\n",
       "    </tr>\n",
       "    <tr>\n",
       "      <th>50%</th>\n",
       "      <td>1387.000000</td>\n",
       "    </tr>\n",
       "    <tr>\n",
       "      <th>75%</th>\n",
       "      <td>1786.000000</td>\n",
       "    </tr>\n",
       "    <tr>\n",
       "      <th>max</th>\n",
       "      <td>4039.000000</td>\n",
       "    </tr>\n",
       "  </tbody>\n",
       "</table>\n",
       "</div>"
      ],
      "text/plain": [
       "       AlgorithmIterations\n",
       "count          9360.000000\n",
       "mean           1514.810043\n",
       "std             696.050921\n",
       "min             289.000000\n",
       "25%            1014.750000\n",
       "50%            1387.000000\n",
       "75%            1786.000000\n",
       "max            4039.000000"
      ]
     },
     "execution_count": 2,
     "metadata": {},
     "output_type": "execute_result"
    }
   ],
   "source": [
    "import formulaic\n",
    "import pymc as pm\n",
    "import pandas as pd\n",
    "\n",
    "data = pd.read_csv(\"../single_parameter/combined_data/statistics.csv\")\n",
    "\n",
    "\n",
    "# Dummy variables for Module and Parameters\n",
    "model_formula = 'AlgorithmIterations ~ 0 + C(TargetModule) + C(TuningParameters, contr.treatment(\"NONE\"))'\n",
    "design_matrix = formulaic.model_matrix(model_formula, data=data)\n",
    "\n",
    "module_matrix = design_matrix.rhs.iloc[:, :24]\n",
    "parameter_matrix = design_matrix.rhs.iloc[:, 24:]\n",
    "\n",
    "# Dummy variables for interaction terms\n",
    "model_formula = 'AlgorithmIterations ~ 0 + C(TargetModule) : C(TuningParameters)'\n",
    "design_matrix = formulaic.model_matrix(model_formula, data=data)\n",
    "\n",
    "# Filter out columns that contain 'T.NONE' in their name\n",
    "columns_to_drop = [col for col in design_matrix.rhs.columns if 'T.NONE' in col]\n",
    "\n",
    "# Drop the identified columns\n",
    "design_matrix.rhs.drop(columns=columns_to_drop, axis=1, inplace=True)\n",
    "interaction_matrix = design_matrix.rhs.iloc[:,:]\n",
    "design_matrix.lhs.describe()\n"
   ]
  },
  {
   "cell_type": "code",
   "execution_count": 3,
   "metadata": {},
   "outputs": [
    {
     "name": "stderr",
     "output_type": "stream",
     "text": [
      "Auto-assigning NUTS sampler...\n",
      "Initializing NUTS using jitter+adapt_diag...\n",
      "Multiprocess sampling (4 chains in 4 jobs)\n",
      "NUTS: [a_bar, sigma_a, sigma_b, a_offset, b_offset, theta]\n"
     ]
    },
    {
     "data": {
      "application/vnd.jupyter.widget-view+json": {
       "model_id": "303cc56466f44717a504e5c43a684547",
       "version_major": 2,
       "version_minor": 0
      },
      "text/plain": [
       "Output()"
      ]
     },
     "metadata": {},
     "output_type": "display_data"
    },
    {
     "data": {
      "text/html": [
       "<pre style=\"white-space:pre;overflow-x:auto;line-height:normal;font-family:Menlo,'DejaVu Sans Mono',consolas,'Courier New',monospace\"></pre>\n"
      ],
      "text/plain": []
     },
     "metadata": {},
     "output_type": "display_data"
    },
    {
     "data": {
      "text/html": [
       "<pre style=\"white-space:pre;overflow-x:auto;line-height:normal;font-family:Menlo,'DejaVu Sans Mono',consolas,'Courier New',monospace\">\n",
       "</pre>\n"
      ],
      "text/plain": [
       "\n"
      ]
     },
     "metadata": {},
     "output_type": "display_data"
    },
    {
     "name": "stderr",
     "output_type": "stream",
     "text": [
      "Sampling 4 chains for 1_000 tune and 1_000 draw iterations (4_000 + 4_000 draws total) took 1365 seconds.\n",
      "The rhat statistic is larger than 1.01 for some parameters. This indicates problems during sampling. See https://arxiv.org/abs/1903.08008 for details\n",
      "The effective sample size per chain is smaller than 100 for some parameters.  A higher number is needed for reliable rhat and ess computation. See https://arxiv.org/abs/1903.08008 for details\n"
     ]
    },
    {
     "data": {
      "application/vnd.jupyter.widget-view+json": {
       "model_id": "8f22feacfba34e97a3c99e122aad9b2a",
       "version_major": 2,
       "version_minor": 0
      },
      "text/plain": [
       "Output()"
      ]
     },
     "metadata": {},
     "output_type": "display_data"
    },
    {
     "data": {
      "text/html": [
       "<pre style=\"white-space:pre;overflow-x:auto;line-height:normal;font-family:Menlo,'DejaVu Sans Mono',consolas,'Courier New',monospace\"></pre>\n"
      ],
      "text/plain": []
     },
     "metadata": {},
     "output_type": "display_data"
    },
    {
     "data": {
      "text/html": [
       "<pre style=\"white-space:pre;overflow-x:auto;line-height:normal;font-family:Menlo,'DejaVu Sans Mono',consolas,'Courier New',monospace\">\n",
       "</pre>\n"
      ],
      "text/plain": [
       "\n"
      ]
     },
     "metadata": {},
     "output_type": "display_data"
    },
    {
     "name": "stdout",
     "output_type": "stream",
     "text": [
      "Model building complete.\n"
     ]
    }
   ],
   "source": [
    "with pm.Model() as model:\n",
    "    # Global Intercept and standard deviation for Modules\n",
    "    a_bar = pm.Normal('a_bar', mu=7, sigma=0.5)\n",
    "    \n",
    "    # Standard Deviations for Modules, Parameters and Interactions\n",
    "    sigma_a = pm.Exponential('sigma_a', 4.0)\n",
    "    sigma_b = pm.Exponential('sigma_b', 4.0)\n",
    "    sigma_g = pm.Exponential('sigma_g', 4.0)\n",
    "    \n",
    "    # Non-centered parameterizations\n",
    "    a_offset = pm.Normal('a_offset', mu=0, sigma=1, shape=24)\n",
    "    a_m = pm.Deterministic('a_m', a_bar + sigma_a * a_offset)\n",
    "\n",
    "    b_offset = pm.Normal('b_offset', mu=0, sigma=1, shape=12)\n",
    "    b_p = pm.Deterministic('b_p', sigma_b * b_offset)\n",
    "\n",
    "    g_offset = pm.Normal('g_offset', mu=0, sigma=1, shape=288)\n",
    "    g_mp = pm.Deterministic('g_mp', sigma_g * g_offset)\n",
    "\n",
    "    \n",
    "    # Activate the correct dummy variables\n",
    "    log_a = pm.math.dot(module_matrix, a_m)\n",
    "    log_b = pm.math.dot(parameter_matrix, b_p)\n",
    "    log_g = pm.math.dot(interaction_matrix, g_mp)\n",
    "\n",
    "    # Link function (log)\n",
    "    mu = pm.Deterministic('mu', pm.math.exp(log_a + log_b + log_g))\n",
    "    \n",
    "    # Beta distribution likelihood \n",
    "    theta = pm.Uniform('theta', 0, 100)\n",
    "    Y_obs = pm.NegativeBinomial('Y_obs', n=theta, p=(theta)/(mu + theta), observed=design_matrix.lhs['AlgorithmIterations'])\n",
    "    \n",
    "    # Sample from the model\n",
    "    trace = pm.sample(1000, chains=4,return_inferencedata=True, progressbar=True, target_accept=0.95)\n",
    "    log_lik = pm.compute_log_likelihood(trace)\n",
    "    \n",
    "print(\"Model building complete.\")"
   ]
  },
  {
   "cell_type": "code",
   "execution_count": 4,
   "metadata": {},
   "outputs": [
    {
     "data": {
      "text/plain": [
       "'model_overhead_trace.nc'"
      ]
     },
     "execution_count": 4,
     "metadata": {},
     "output_type": "execute_result"
    }
   ],
   "source": [
    "import arviz as az\n",
    "\n",
    "az.to_netcdf(trace, \"model_overhead_trace.nc\")"
   ]
  }
 ],
 "metadata": {
  "kernelspec": {
   "display_name": "analysis_env",
   "language": "python",
   "name": "python3"
  },
  "language_info": {
   "codemirror_mode": {
    "name": "ipython",
    "version": 3
   },
   "file_extension": ".py",
   "mimetype": "text/x-python",
   "name": "python",
   "nbconvert_exporter": "python",
   "pygments_lexer": "ipython3",
   "version": "3.12.3"
  }
 },
 "nbformat": 4,
 "nbformat_minor": 2
}
