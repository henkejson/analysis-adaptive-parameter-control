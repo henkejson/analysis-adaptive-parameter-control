{
 "cells": [
  {
   "cell_type": "markdown",
   "metadata": {},
   "source": [
    " This file is used to combine multiple data folder into a single one.\n",
    "\n",
    " It also supports merging all `statistics.csv`files into a single `.csv` file"
   ]
  },
  {
   "cell_type": "markdown",
   "metadata": {},
   "source": [
    "### Set up paths"
   ]
  },
  {
   "cell_type": "code",
   "execution_count": null,
   "metadata": {},
   "outputs": [],
   "source": [
    "\n",
    "import os\n",
    "import shutil\n",
    "import pandas as pd\n",
    "\n",
    "parent_directory = os.path.join(os.path.dirname(os.getcwd()), \"single_parameter\")\n",
    "datafolders_paths = [ os.path.join(parent_directory, x) for x in [\"data1\",\"data2\", \"data3\", \"data4\"]]\n",
    "combined_data_path = os.path.join(parent_directory, \"combined_data\")\n",
    "\n",
    "\n",
    "print(parent_directory)\n",
    "print(combined_data_path)\n",
    "for d in datafolders_paths:\n",
    "    print(d)\n",
    "\n"
   ]
  },
  {
   "cell_type": "markdown",
   "metadata": {},
   "source": [
    "### Copy module folders"
   ]
  },
  {
   "cell_type": "code",
   "execution_count": 12,
   "metadata": {},
   "outputs": [],
   "source": [
    "for folder in datafolders_paths:\n",
    "    for item in os.listdir(folder):\n",
    "        source_path = os.path.join(folder, item)\n",
    "\n",
    "        if os.path.isdir(source_path):\n",
    "            if not os.path.exists(combined_data_path):\n",
    "                os.makedirs(combined_data_path, exist_ok=True)\n",
    "            shutil.copytree(source_path, os.path.join(combined_data_path, item))"
   ]
  },
  {
   "cell_type": "markdown",
   "metadata": {},
   "source": [
    "### Merge CSV files"
   ]
  },
  {
   "cell_type": "code",
   "execution_count": null,
   "metadata": {},
   "outputs": [],
   "source": [
    "dataframes = []\n",
    "\n",
    "for folder in datafolders_paths:\n",
    "    csv_file = os.path.join(folder, \"statistics.csv\")\n",
    "    if os.path.isfile(csv_file):\n",
    "        df = pd.read_csv(csv_file)\n",
    "        dataframes.append(df)\n",
    "\n",
    "\n",
    "combined_csv = pd.concat(dataframes, ignore_index=True)\n",
    "\n",
    "combined_csv_path = os.path.join(combined_data_path, 'statistics.csv')\n",
    "combined_csv.to_csv(combined_csv_path, index=False)"
   ]
  }
 ],
 "metadata": {
  "kernelspec": {
   "display_name": "jupyter_env",
   "language": "python",
   "name": "python3"
  },
  "language_info": {
   "codemirror_mode": {
    "name": "ipython",
    "version": 3
   },
   "file_extension": ".py",
   "mimetype": "text/x-python",
   "name": "python",
   "nbconvert_exporter": "python",
   "pygments_lexer": "ipython3",
   "version": "3.10.12"
  }
 },
 "nbformat": 4,
 "nbformat_minor": 2
}
