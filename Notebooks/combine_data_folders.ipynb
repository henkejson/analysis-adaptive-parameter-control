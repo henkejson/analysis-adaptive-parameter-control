{
 "cells": [
  {
   "cell_type": "code",
   "execution_count": 20,
   "metadata": {},
   "outputs": [
    {
     "name": "stdout",
     "output_type": "stream",
     "text": [
      "/home/erik/Desktop/analysis-parameter-optimization/single_parameter\n",
      "/home/erik/Desktop/analysis-parameter-optimization/single_parameter/combined_data\n",
      "/home/erik/Desktop/analysis-parameter-optimization/single_parameter/data1\n",
      "/home/erik/Desktop/analysis-parameter-optimization/single_parameter/data2\n",
      "/home/erik/Desktop/analysis-parameter-optimization/single_parameter/data3\n",
      "/home/erik/Desktop/analysis-parameter-optimization/single_parameter/data4\n"
     ]
    }
   ],
   "source": [
    "\n",
    "import os\n",
    "import shutil\n",
    "import pandas as pd\n",
    "\n",
    "parent_directory = os.path.join(os.path.dirname(os.getcwd()), \"single_parameter\")\n",
    "\n",
    "datafolders_paths = [ os.path.join(parent_directory, x) for x in [\"data1\",\"data2\", \"data3\", \"data4\"]]\n",
    "\n",
    "combined_data_path = os.path.join(parent_directory, \"combined_data\")\n",
    "\n",
    "# Ensure the destination folder exists\n",
    "#os.makedirs(combined_data_path, exist_ok=True)\n",
    "\n",
    "print(parent_directory)\n",
    "print(combined_data_path)\n",
    "for d in datafolders_paths:\n",
    "    print(d)\n",
    "\n"
   ]
  },
  {
   "cell_type": "markdown",
   "metadata": {},
   "source": [
    "# Copy Folders"
   ]
  },
  {
   "cell_type": "code",
   "execution_count": 12,
   "metadata": {},
   "outputs": [],
   "source": [
    "for folder in datafolders_paths:\n",
    "    for item in os.listdir(folder):\n",
    "        source_path = os.path.join(folder, item)\n",
    "\n",
    "        if os.path.isdir(source_path):\n",
    "            if not os.path.exists(combined_data_path):\n",
    "                os.makedirs(combined_data_path, exist_ok=True)\n",
    "            shutil.copytree(source_path, os.path.join(combined_data_path, item))"
   ]
  },
  {
   "cell_type": "markdown",
   "metadata": {},
   "source": [
    "# Merge CSV"
   ]
  },
  {
   "cell_type": "code",
   "execution_count": 19,
   "metadata": {},
   "outputs": [
    {
     "ename": "NameError",
     "evalue": "name 'pd' is not defined",
     "output_type": "error",
     "traceback": [
      "\u001b[0;31m---------------------------------------------------------------------------\u001b[0m",
      "\u001b[0;31mNameError\u001b[0m                                 Traceback (most recent call last)",
      "Cell \u001b[0;32mIn[19], line 6\u001b[0m\n\u001b[1;32m      4\u001b[0m csv_file \u001b[38;5;241m=\u001b[39m os\u001b[38;5;241m.\u001b[39mpath\u001b[38;5;241m.\u001b[39mjoin(folder, \u001b[38;5;124m\"\u001b[39m\u001b[38;5;124mstatistics.csv\u001b[39m\u001b[38;5;124m\"\u001b[39m)\n\u001b[1;32m      5\u001b[0m \u001b[38;5;28;01mif\u001b[39;00m os\u001b[38;5;241m.\u001b[39mpath\u001b[38;5;241m.\u001b[39misfile(csv_file):\n\u001b[0;32m----> 6\u001b[0m     df \u001b[38;5;241m=\u001b[39m \u001b[43mpd\u001b[49m\u001b[38;5;241m.\u001b[39mread_csv(csv_file)\n\u001b[1;32m      7\u001b[0m     dataframes\u001b[38;5;241m.\u001b[39mappend(df)\n",
      "\u001b[0;31mNameError\u001b[0m: name 'pd' is not defined"
     ]
    }
   ],
   "source": [
    "dataframes = []\n",
    "\n",
    "for folder in datafolders_paths:\n",
    "    csv_file = os.path.join(folder, \"statistics.csv\")\n",
    "    if os.path.isfile(csv_file):\n",
    "        df = pd.read_csv(csv_file)\n",
    "        dataframes.append(df)"
   ]
  }
 ],
 "metadata": {
  "kernelspec": {
   "display_name": "jupyter_env",
   "language": "python",
   "name": "python3"
  },
  "language_info": {
   "codemirror_mode": {
    "name": "ipython",
    "version": 3
   },
   "file_extension": ".py",
   "mimetype": "text/x-python",
   "name": "python",
   "nbconvert_exporter": "python",
   "pygments_lexer": "ipython3",
   "version": "3.10.12"
  }
 },
 "nbformat": 4,
 "nbformat_minor": 2
}
