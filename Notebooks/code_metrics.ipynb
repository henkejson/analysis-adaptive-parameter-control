{
 "cells": [
  {
   "cell_type": "code",
   "execution_count": 4,
   "metadata": {},
   "outputs": [],
   "source": [
    "import os\n",
    "import csv\n",
    "from radon.complexity import cc_visit, cc_rank, average_complexity\n",
    "from radon.metrics import h_visit\n",
    "from radon.metrics import mi_visit, mi_parameters\n",
    "from radon.raw import analyze"
   ]
  },
  {
   "cell_type": "code",
   "execution_count": 3,
   "metadata": {},
   "outputs": [
    {
     "data": {
      "text/plain": [
       "['dict_unpacking.py',\n",
       " 'immutable_list.py',\n",
       " 'validation.py',\n",
       " 'positional_validation.py',\n",
       " 'headers.py',\n",
       " 'da.py',\n",
       " 'return_from_generator.py',\n",
       " 'signals.py',\n",
       " 'packages.py',\n",
       " '_timer.py',\n",
       " 'py_helpers.py',\n",
       " 'yield_from.py',\n",
       " 'python.py',\n",
       " 'pgzero_frontend.py',\n",
       " 'namedtupleutils.py',\n",
       " 'config.py',\n",
       " 'maybe.py',\n",
       " 'journaling.py',\n",
       " 's_helpers.py',\n",
       " 'py_base.py',\n",
       " 'cmd.py',\n",
       " 'h_base.py',\n",
       " 'decorators.py',\n",
       " 'lazy_import.py']"
      ]
     },
     "execution_count": 3,
     "metadata": {},
     "output_type": "execute_result"
    }
   ],
   "source": [
    "# Define the directory to analyze\n",
    "directory = '../modules'\n",
    "os.listdir(directory)"
   ]
  },
  {
   "cell_type": "code",
   "execution_count": 19,
   "metadata": {},
   "outputs": [
    {
     "name": "stdout",
     "output_type": "stream",
     "text": [
      "cmd.py\n",
      "config.py\n",
      "da.py\n",
      "decorators.py\n",
      "dict_unpacking.py\n",
      "h_base.py\n",
      "headers.py\n",
      "immutable_list.py\n",
      "journaling.py\n",
      "lazy_import.py\n",
      "maybe.py\n",
      "namedtupleutils.py\n",
      "packages.py\n",
      "pgzero_frontend.py\n",
      "positional_validation.py\n",
      "py_base.py\n",
      "py_helpers.py\n",
      "python.py\n",
      "return_from_generator.py\n",
      "s_helpers.py\n",
      "signals.py\n",
      "timer.py\n",
      "validation.py\n",
      "yield_from.py\n",
      "Analysis complete. Results saved to analysis_results.csv\n"
     ]
    }
   ],
   "source": [
    "# Function to analyze a Python file\n",
    "def analyze_file(file_path):\n",
    "    with open(file_path, 'r') as f:\n",
    "        content = f.read()\n",
    "    \n",
    "    # Cyclomatic Complexity\n",
    "    complexity_results = cc_visit(content)\n",
    "    total_cc = sum(block.complexity for block in complexity_results)\n",
    "    avg_cc = average_complexity(complexity_results)\n",
    "    \n",
    "    # Logical Lines of Code\n",
    "    l_lines = sum(1 for line in content.split('\\n') if line.strip())\n",
    "    \n",
    "    # Halstead metrics\n",
    "    halstead_results = h_visit(content)\n",
    "    halstead_metrics = halstead_results[0] if halstead_results else None\n",
    "\n",
    "    return {\n",
    "        'file': os.path.splitext(os.path.basename(file_path))[0],\n",
    "        'total_cc': total_cc,\n",
    "        'avg_cc': round(avg_cc,2),\n",
    "        'lloc': l_lines,\n",
    "        #'vocabulary': halstead_metrics.vocabulary if halstead_metrics else 0,\n",
    "        #'length': halstead_metrics.length if halstead_metrics else 0,\n",
    "        #'calculated_length': halstead_metrics.calculated_length if halstead_metrics else 0,\n",
    "        'volume': round(halstead_metrics.volume if halstead_metrics else 0, 2),\n",
    "        'difficulty': round(halstead_metrics.difficulty if halstead_metrics else 0, 2),\n",
    "        'effort': round(halstead_metrics.effort if halstead_metrics else 0, 2),\n",
    "        'time': round(halstead_metrics.time if halstead_metrics else 0,2),\n",
    "        'bugs': round(halstead_metrics.bugs if halstead_metrics else 0,2),\n",
    "    }\n",
    "\n",
    "# List to store analysis results\n",
    "results = []\n",
    "\n",
    "# Walk through the directory and analyze each Python file\n",
    "for root, _, files in os.walk(directory):\n",
    "    for file in sorted(files):\n",
    "        if file.endswith('.py'):\n",
    "            print(file)\n",
    "            file_path = os.path.join(root, file)\n",
    "            result = analyze_file(file_path)\n",
    "            results.append(result)\n",
    "\n",
    "# Define CSV output file\n",
    "csv_file = 'analysis_results.csv'\n",
    "\n",
    "# Write results to CSV\n",
    "with open(csv_file, 'w', newline='') as csvfile:\n",
    "    fieldnames = ['file', 'total_cc', 'avg_cc', 'lloc', 'volume', 'difficulty', 'effort', 'time', 'bugs']\n",
    "    writer = csv.DictWriter(csvfile, fieldnames=fieldnames)\n",
    "    \n",
    "    writer.writeheader()\n",
    "    for result in results:\n",
    "        writer.writerow(result)\n",
    "\n",
    "print(f\"Analysis complete. Results saved to {csv_file}\")"
   ]
  }
 ],
 "metadata": {
  "kernelspec": {
   "display_name": "analysis_env",
   "language": "python",
   "name": "python3"
  },
  "language_info": {
   "codemirror_mode": {
    "name": "ipython",
    "version": 3
   },
   "file_extension": ".py",
   "mimetype": "text/x-python",
   "name": "python",
   "nbconvert_exporter": "python",
   "pygments_lexer": "ipython3",
   "version": "3.12.3"
  }
 },
 "nbformat": 4,
 "nbformat_minor": 2
}
