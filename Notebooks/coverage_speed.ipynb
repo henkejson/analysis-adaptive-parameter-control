{
 "cells": [
  {
   "cell_type": "code",
   "execution_count": 2,
   "metadata": {},
   "outputs": [
    {
     "name": "stdout",
     "output_type": "stream",
     "text": [
      "                                 RunId                      TargetModule  \\\n",
      "0               flutils.decorators#247                flutils.decorators   \n",
      "1                codetiming._timer#100                 codetiming._timer   \n",
      "2                codetiming._timer#222                 codetiming._timer   \n",
      "3               flutils.decorators#327                flutils.decorators   \n",
      "4  httpie.output.formatters.headers#50  httpie.output.formatters.headers   \n",
      "\n",
      "     Algorithm  AlgorithmIterations    SearchTime  \\\n",
      "0  DYNAMOSA_RL                 1513  300064136954   \n",
      "1  DYNAMOSA_RL                 1001  300064143210   \n",
      "2  DYNAMOSA_RL                 1516  300085846117   \n",
      "3  DYNAMOSA_RL                 1510  300133832198   \n",
      "4  DYNAMOSA_RL                 2089  300206714135   \n",
      "\n",
      "                TuningParameters  Coverage  CoverageTimeline_T1  \\\n",
      "0          TestChangeProbability  0.666667             0.666667   \n",
      "1                          Elite  0.888889             0.555556   \n",
      "2  StatementInsertionProbability  0.888889             0.444444   \n",
      "3          TestInsertProbability  0.666667             0.666667   \n",
      "4               ChromosomeLength  0.600000             0.600000   \n",
      "\n",
      "   CoverageTimeline_T2  CoverageTimeline_T3  ...  CoverageTimeline_T292  \\\n",
      "0             0.666667             0.666667  ...               0.666667   \n",
      "1             0.555556             0.629630  ...               0.888889   \n",
      "2             0.666667             0.696566  ...               0.888889   \n",
      "3             0.666667             0.666667  ...               0.666667   \n",
      "4             0.600000             0.600000  ...               0.600000   \n",
      "\n",
      "   CoverageTimeline_T293  CoverageTimeline_T294  CoverageTimeline_T295  \\\n",
      "0               0.666667               0.666667               0.666667   \n",
      "1               0.888889               0.888889               0.888889   \n",
      "2               0.888889               0.888889               0.888889   \n",
      "3               0.666667               0.666667               0.666667   \n",
      "4               0.600000               0.600000               0.600000   \n",
      "\n",
      "   CoverageTimeline_T296  CoverageTimeline_T297  CoverageTimeline_T298  \\\n",
      "0               0.666667               0.666667               0.666667   \n",
      "1               0.888889               0.888889               0.888889   \n",
      "2               0.888889               0.888889               0.888889   \n",
      "3               0.666667               0.666667               0.666667   \n",
      "4               0.600000               0.600000               0.600000   \n",
      "\n",
      "   CoverageTimeline_T299  CoverageTimeline_T300         AUC  \n",
      "0               0.666667               0.666667  199.333333  \n",
      "1               0.888889               0.888889  262.228601  \n",
      "2               0.888889               0.888889  263.178856  \n",
      "3               0.666667               0.666667  199.333333  \n",
      "4               0.600000               0.600000  179.400000  \n",
      "\n",
      "[5 rows x 308 columns]\n"
     ]
    }
   ],
   "source": [
    "import pandas as pd\n",
    "import numpy as np\n",
    "\n",
    "# Load the CSV file\n",
    "data = pd.read_csv(\"../single_parameter/combined_data/statistics.csv\")\n",
    "\n",
    "# Select columns for the coverage timeline\n",
    "coverage_data = data.filter(regex='^CoverageTimeline_T')\n",
    "\n",
    "# Calculate the integral for each row using the trapezoidal rule\n",
    "data['AUC'] = coverage_data.apply(lambda row: np.trapz(row, dx=1), axis=1)\n",
    "\n",
    "# Print the updated DataFrame to check the new column\n",
    "print(data.head())\n",
    "\n",
    "# Optionally, save the DataFrame with the new AUC column to a CSV file\n",
    "data.to_csv('statistics_updated.csv', index=False)\n"
   ]
  }
 ],
 "metadata": {
  "kernelspec": {
   "display_name": "analysis_env",
   "language": "python",
   "name": "python3"
  },
  "language_info": {
   "codemirror_mode": {
    "name": "ipython",
    "version": 3
   },
   "file_extension": ".py",
   "mimetype": "text/x-python",
   "name": "python",
   "nbconvert_exporter": "python",
   "pygments_lexer": "ipython3",
   "version": "3.12.3"
  }
 },
 "nbformat": 4,
 "nbformat_minor": 2
}
